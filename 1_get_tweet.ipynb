{
 "cells": [
  {
   "cell_type": "markdown",
   "metadata": {},
   "source": [
    "### 트윗 스트리밍  \n",
    "twitter API의 한계로 7일 이전의 트윗은 불러올 수 없다. 그러나 다른 방법(twitterscraper 등의 외부 오픈 패키지)는 모두 막혀 진행이 어려워 소규모지만 데이터를 모아보려 한다."
   ]
  },
  {
   "cell_type": "code",
   "execution_count": 5,
   "metadata": {},
   "outputs": [],
   "source": [
    "import twitter #twitter와 python의 연동을 위해서\n",
    "import json #json 다루기 위해서\n",
    "import re #정규표현식을 다루기 위해"
   ]
  },
  {
   "cell_type": "code",
   "execution_count": 1,
   "metadata": {},
   "outputs": [
    {
     "ename": "NameError",
     "evalue": "name 'twitter' is not defined",
     "output_type": "error",
     "traceback": [
      "\u001b[1;31m---------------------------------------------------------------------------\u001b[0m",
      "\u001b[1;31mNameError\u001b[0m                                 Traceback (most recent call last)",
      "\u001b[1;32mc:\\Users\\zekca\\Section6\\Project_1\\1_get_tweet.ipynb Cell 3'\u001b[0m in \u001b[0;36m<module>\u001b[1;34m\u001b[0m\n\u001b[0;32m      <a href='vscode-notebook-cell:/c%3A/Users/zekca/Section6/Project_1/1_get_tweet.ipynb#ch0000002?line=3'>4</a>\u001b[0m twitter_access_token \u001b[39m=\u001b[39m \u001b[39m\"\u001b[39m\u001b[39mYOUR KEY\u001b[39m\u001b[39m\"\u001b[39m\n\u001b[0;32m      <a href='vscode-notebook-cell:/c%3A/Users/zekca/Section6/Project_1/1_get_tweet.ipynb#ch0000002?line=4'>5</a>\u001b[0m twitter_access_secret \u001b[39m=\u001b[39m \u001b[39m\"\u001b[39m\u001b[39mYOUR KEY\u001b[39m\u001b[39m\"\u001b[39m\n\u001b[1;32m----> <a href='vscode-notebook-cell:/c%3A/Users/zekca/Section6/Project_1/1_get_tweet.ipynb#ch0000002?line=6'>7</a>\u001b[0m twitter_api \u001b[39m=\u001b[39m twitter\u001b[39m.\u001b[39mApi(consumer_key\u001b[39m=\u001b[39mtwitter_consumer_key,\n\u001b[0;32m      <a href='vscode-notebook-cell:/c%3A/Users/zekca/Section6/Project_1/1_get_tweet.ipynb#ch0000002?line=7'>8</a>\u001b[0m                           consumer_secret\u001b[39m=\u001b[39mtwitter_consumer_secret, \n\u001b[0;32m      <a href='vscode-notebook-cell:/c%3A/Users/zekca/Section6/Project_1/1_get_tweet.ipynb#ch0000002?line=8'>9</a>\u001b[0m                           access_token_key\u001b[39m=\u001b[39mtwitter_access_token, \n\u001b[0;32m     <a href='vscode-notebook-cell:/c%3A/Users/zekca/Section6/Project_1/1_get_tweet.ipynb#ch0000002?line=9'>10</a>\u001b[0m                           access_token_secret\u001b[39m=\u001b[39mtwitter_access_secret)\n",
      "\u001b[1;31mNameError\u001b[0m: name 'twitter' is not defined"
     ]
    }
   ],
   "source": [
    "#API를 사용하기 위한 키\n",
    "twitter_consumer_key = \"YOUR KEY\"\n",
    "twitter_consumer_secret = \"YOUR KEY\"\n",
    "twitter_access_token = \"YOUR KEY\"\n",
    "twitter_access_secret = \"YOUR KEY\"\n",
    "\n",
    "twitter_api = twitter.Api(consumer_key=twitter_consumer_key,\n",
    "                          consumer_secret=twitter_consumer_secret, \n",
    "                          access_token_key=twitter_access_token, \n",
    "                          access_token_secret=twitter_access_secret)"
   ]
  },
  {
   "cell_type": "markdown",
   "metadata": {},
   "source": [
    "찾은 모든 방법에서 쿼리가 없는 경우가 없어서(즉, 실시간으로 모든 트윗 혹은 공백이 포함된 트윗을 스크래핑할 수가  없어서), 현시점 가장 트윗이 많이 발생할 것이라 생각하는 '올림픽'을 검색해 스트리밍 방식으로 트위터를 모았다. 약 6시간동안 모았으며, 스트리밍한 json 형태의 내용을 txt 문서로 저장하였다. 보관을 위해서 저장한 파일은 raw_data.zip으로 압축하였다."
   ]
  },
  {
   "cell_type": "code",
   "execution_count": 10,
   "metadata": {},
   "outputs": [
    {
     "ename": "KeyboardInterrupt",
     "evalue": "",
     "output_type": "error",
     "traceback": [
      "\u001b[1;31m---------------------------------------------------------------------------\u001b[0m",
      "\u001b[1;31mKeyboardInterrupt\u001b[0m                         Traceback (most recent call last)",
      "\u001b[1;32mc:\\Users\\zekca\\Section6\\Project_1\\1_get_tweet.ipynb Cell 5'\u001b[0m in \u001b[0;36m<module>\u001b[1;34m\u001b[0m\n\u001b[0;32m      <a href='vscode-notebook-cell:/c%3A/Users/zekca/Section6/Project_1/1_get_tweet.ipynb#ch0000004?line=3'>4</a>\u001b[0m stream \u001b[39m=\u001b[39m twitter_api\u001b[39m.\u001b[39mGetStreamFilter(track\u001b[39m=\u001b[39mquery)\n\u001b[0;32m      <a href='vscode-notebook-cell:/c%3A/Users/zekca/Section6/Project_1/1_get_tweet.ipynb#ch0000004?line=4'>5</a>\u001b[0m \u001b[39mwhile\u001b[39;00m \u001b[39mTrue\u001b[39;00m:\n\u001b[1;32m----> <a href='vscode-notebook-cell:/c%3A/Users/zekca/Section6/Project_1/1_get_tweet.ipynb#ch0000004?line=5'>6</a>\u001b[0m     \u001b[39mfor\u001b[39;00m tweets \u001b[39min\u001b[39;00m stream:\n\u001b[0;32m      <a href='vscode-notebook-cell:/c%3A/Users/zekca/Section6/Project_1/1_get_tweet.ipynb#ch0000004?line=6'>7</a>\u001b[0m         tweet \u001b[39m=\u001b[39m json\u001b[39m.\u001b[39mdumps(tweets, ensure_ascii\u001b[39m=\u001b[39m\u001b[39mFalse\u001b[39;00m)\n\u001b[0;32m      <a href='vscode-notebook-cell:/c%3A/Users/zekca/Section6/Project_1/1_get_tweet.ipynb#ch0000004?line=7'>8</a>\u001b[0m         \u001b[39mprint\u001b[39m(tweet, file\u001b[39m=\u001b[39moutput_file, flush\u001b[39m=\u001b[39m\u001b[39mTrue\u001b[39;00m)\n",
      "File \u001b[1;32m~\\anaconda3\\envs\\project1\\lib\\site-packages\\twitter\\api.py:4593\u001b[0m, in \u001b[0;36mApi.GetStreamFilter\u001b[1;34m(self, follow, track, locations, languages, delimited, stall_warnings, filter_level)\u001b[0m\n\u001b[0;32m   <a href='file:///~/anaconda3/envs/project1/lib/site-packages/twitter/api.py?line=4589'>4590</a>\u001b[0m     data[\u001b[39m'\u001b[39m\u001b[39mfilter_level\u001b[39m\u001b[39m'\u001b[39m] \u001b[39m=\u001b[39m filter_level\n\u001b[0;32m   <a href='file:///~/anaconda3/envs/project1/lib/site-packages/twitter/api.py?line=4591'>4592</a>\u001b[0m resp \u001b[39m=\u001b[39m \u001b[39mself\u001b[39m\u001b[39m.\u001b[39m_RequestStream(url, \u001b[39m'\u001b[39m\u001b[39mPOST\u001b[39m\u001b[39m'\u001b[39m, data\u001b[39m=\u001b[39mdata)\n\u001b[1;32m-> <a href='file:///~/anaconda3/envs/project1/lib/site-packages/twitter/api.py?line=4592'>4593</a>\u001b[0m \u001b[39mfor\u001b[39;00m line \u001b[39min\u001b[39;00m resp\u001b[39m.\u001b[39miter_lines():\n\u001b[0;32m   <a href='file:///~/anaconda3/envs/project1/lib/site-packages/twitter/api.py?line=4593'>4594</a>\u001b[0m     \u001b[39mif\u001b[39;00m line:\n\u001b[0;32m   <a href='file:///~/anaconda3/envs/project1/lib/site-packages/twitter/api.py?line=4594'>4595</a>\u001b[0m         data \u001b[39m=\u001b[39m \u001b[39mself\u001b[39m\u001b[39m.\u001b[39m_ParseAndCheckTwitter(line\u001b[39m.\u001b[39mdecode(\u001b[39m'\u001b[39m\u001b[39mutf-8\u001b[39m\u001b[39m'\u001b[39m))\n",
      "File \u001b[1;32m~\\anaconda3\\envs\\project1\\lib\\site-packages\\requests\\models.py:804\u001b[0m, in \u001b[0;36mResponse.iter_lines\u001b[1;34m(self, chunk_size, decode_unicode, delimiter)\u001b[0m\n\u001b[0;32m    <a href='file:///~/anaconda3/envs/project1/lib/site-packages/requests/models.py?line=794'>795</a>\u001b[0m \u001b[39m\"\"\"Iterates over the response data, one line at a time.  When\u001b[39;00m\n\u001b[0;32m    <a href='file:///~/anaconda3/envs/project1/lib/site-packages/requests/models.py?line=795'>796</a>\u001b[0m \u001b[39mstream=True is set on the request, this avoids reading the\u001b[39;00m\n\u001b[0;32m    <a href='file:///~/anaconda3/envs/project1/lib/site-packages/requests/models.py?line=796'>797</a>\u001b[0m \u001b[39mcontent at once into memory for large responses.\u001b[39;00m\n\u001b[0;32m    <a href='file:///~/anaconda3/envs/project1/lib/site-packages/requests/models.py?line=797'>798</a>\u001b[0m \n\u001b[0;32m    <a href='file:///~/anaconda3/envs/project1/lib/site-packages/requests/models.py?line=798'>799</a>\u001b[0m \u001b[39m.. note:: This method is not reentrant safe.\u001b[39;00m\n\u001b[0;32m    <a href='file:///~/anaconda3/envs/project1/lib/site-packages/requests/models.py?line=799'>800</a>\u001b[0m \u001b[39m\"\"\"\u001b[39;00m\n\u001b[0;32m    <a href='file:///~/anaconda3/envs/project1/lib/site-packages/requests/models.py?line=801'>802</a>\u001b[0m pending \u001b[39m=\u001b[39m \u001b[39mNone\u001b[39;00m\n\u001b[1;32m--> <a href='file:///~/anaconda3/envs/project1/lib/site-packages/requests/models.py?line=803'>804</a>\u001b[0m \u001b[39mfor\u001b[39;00m chunk \u001b[39min\u001b[39;00m \u001b[39mself\u001b[39m\u001b[39m.\u001b[39miter_content(chunk_size\u001b[39m=\u001b[39mchunk_size, decode_unicode\u001b[39m=\u001b[39mdecode_unicode):\n\u001b[0;32m    <a href='file:///~/anaconda3/envs/project1/lib/site-packages/requests/models.py?line=805'>806</a>\u001b[0m     \u001b[39mif\u001b[39;00m pending \u001b[39mis\u001b[39;00m \u001b[39mnot\u001b[39;00m \u001b[39mNone\u001b[39;00m:\n\u001b[0;32m    <a href='file:///~/anaconda3/envs/project1/lib/site-packages/requests/models.py?line=806'>807</a>\u001b[0m         chunk \u001b[39m=\u001b[39m pending \u001b[39m+\u001b[39m chunk\n",
      "File \u001b[1;32m~\\anaconda3\\envs\\project1\\lib\\site-packages\\requests\\models.py:760\u001b[0m, in \u001b[0;36mResponse.iter_content.<locals>.generate\u001b[1;34m()\u001b[0m\n\u001b[0;32m    <a href='file:///~/anaconda3/envs/project1/lib/site-packages/requests/models.py?line=757'>758</a>\u001b[0m \u001b[39mif\u001b[39;00m \u001b[39mhasattr\u001b[39m(\u001b[39mself\u001b[39m\u001b[39m.\u001b[39mraw, \u001b[39m'\u001b[39m\u001b[39mstream\u001b[39m\u001b[39m'\u001b[39m):\n\u001b[0;32m    <a href='file:///~/anaconda3/envs/project1/lib/site-packages/requests/models.py?line=758'>759</a>\u001b[0m     \u001b[39mtry\u001b[39;00m:\n\u001b[1;32m--> <a href='file:///~/anaconda3/envs/project1/lib/site-packages/requests/models.py?line=759'>760</a>\u001b[0m         \u001b[39mfor\u001b[39;00m chunk \u001b[39min\u001b[39;00m \u001b[39mself\u001b[39m\u001b[39m.\u001b[39mraw\u001b[39m.\u001b[39mstream(chunk_size, decode_content\u001b[39m=\u001b[39m\u001b[39mTrue\u001b[39;00m):\n\u001b[0;32m    <a href='file:///~/anaconda3/envs/project1/lib/site-packages/requests/models.py?line=760'>761</a>\u001b[0m             \u001b[39myield\u001b[39;00m chunk\n\u001b[0;32m    <a href='file:///~/anaconda3/envs/project1/lib/site-packages/requests/models.py?line=761'>762</a>\u001b[0m     \u001b[39mexcept\u001b[39;00m ProtocolError \u001b[39mas\u001b[39;00m e:\n",
      "File \u001b[1;32m~\\anaconda3\\envs\\project1\\lib\\site-packages\\urllib3\\response.py:572\u001b[0m, in \u001b[0;36mHTTPResponse.stream\u001b[1;34m(self, amt, decode_content)\u001b[0m\n\u001b[0;32m    <a href='file:///~/anaconda3/envs/project1/lib/site-packages/urllib3/response.py?line=555'>556</a>\u001b[0m \u001b[39m\"\"\"\u001b[39;00m\n\u001b[0;32m    <a href='file:///~/anaconda3/envs/project1/lib/site-packages/urllib3/response.py?line=556'>557</a>\u001b[0m \u001b[39mA generator wrapper for the read() method. A call will block until\u001b[39;00m\n\u001b[0;32m    <a href='file:///~/anaconda3/envs/project1/lib/site-packages/urllib3/response.py?line=557'>558</a>\u001b[0m \u001b[39m``amt`` bytes have been read from the connection or until the\u001b[39;00m\n\u001b[1;32m   (...)\u001b[0m\n\u001b[0;32m    <a href='file:///~/anaconda3/envs/project1/lib/site-packages/urllib3/response.py?line=568'>569</a>\u001b[0m \u001b[39m    'content-encoding' header.\u001b[39;00m\n\u001b[0;32m    <a href='file:///~/anaconda3/envs/project1/lib/site-packages/urllib3/response.py?line=569'>570</a>\u001b[0m \u001b[39m\"\"\"\u001b[39;00m\n\u001b[0;32m    <a href='file:///~/anaconda3/envs/project1/lib/site-packages/urllib3/response.py?line=570'>571</a>\u001b[0m \u001b[39mif\u001b[39;00m \u001b[39mself\u001b[39m\u001b[39m.\u001b[39mchunked \u001b[39mand\u001b[39;00m \u001b[39mself\u001b[39m\u001b[39m.\u001b[39msupports_chunked_reads():\n\u001b[1;32m--> <a href='file:///~/anaconda3/envs/project1/lib/site-packages/urllib3/response.py?line=571'>572</a>\u001b[0m     \u001b[39mfor\u001b[39;00m line \u001b[39min\u001b[39;00m \u001b[39mself\u001b[39m\u001b[39m.\u001b[39mread_chunked(amt, decode_content\u001b[39m=\u001b[39mdecode_content):\n\u001b[0;32m    <a href='file:///~/anaconda3/envs/project1/lib/site-packages/urllib3/response.py?line=572'>573</a>\u001b[0m         \u001b[39myield\u001b[39;00m line\n\u001b[0;32m    <a href='file:///~/anaconda3/envs/project1/lib/site-packages/urllib3/response.py?line=573'>574</a>\u001b[0m \u001b[39melse\u001b[39;00m:\n",
      "File \u001b[1;32m~\\anaconda3\\envs\\project1\\lib\\site-packages\\urllib3\\response.py:764\u001b[0m, in \u001b[0;36mHTTPResponse.read_chunked\u001b[1;34m(self, amt, decode_content)\u001b[0m\n\u001b[0;32m    <a href='file:///~/anaconda3/envs/project1/lib/site-packages/urllib3/response.py?line=760'>761</a>\u001b[0m     \u001b[39mreturn\u001b[39;00m\n\u001b[0;32m    <a href='file:///~/anaconda3/envs/project1/lib/site-packages/urllib3/response.py?line=762'>763</a>\u001b[0m \u001b[39mwhile\u001b[39;00m \u001b[39mTrue\u001b[39;00m:\n\u001b[1;32m--> <a href='file:///~/anaconda3/envs/project1/lib/site-packages/urllib3/response.py?line=763'>764</a>\u001b[0m     \u001b[39mself\u001b[39;49m\u001b[39m.\u001b[39;49m_update_chunk_length()\n\u001b[0;32m    <a href='file:///~/anaconda3/envs/project1/lib/site-packages/urllib3/response.py?line=764'>765</a>\u001b[0m     \u001b[39mif\u001b[39;00m \u001b[39mself\u001b[39m\u001b[39m.\u001b[39mchunk_left \u001b[39m==\u001b[39m \u001b[39m0\u001b[39m:\n\u001b[0;32m    <a href='file:///~/anaconda3/envs/project1/lib/site-packages/urllib3/response.py?line=765'>766</a>\u001b[0m         \u001b[39mbreak\u001b[39;00m\n",
      "File \u001b[1;32m~\\anaconda3\\envs\\project1\\lib\\site-packages\\urllib3\\response.py:694\u001b[0m, in \u001b[0;36mHTTPResponse._update_chunk_length\u001b[1;34m(self)\u001b[0m\n\u001b[0;32m    <a href='file:///~/anaconda3/envs/project1/lib/site-packages/urllib3/response.py?line=691'>692</a>\u001b[0m \u001b[39mif\u001b[39;00m \u001b[39mself\u001b[39m\u001b[39m.\u001b[39mchunk_left \u001b[39mis\u001b[39;00m \u001b[39mnot\u001b[39;00m \u001b[39mNone\u001b[39;00m:\n\u001b[0;32m    <a href='file:///~/anaconda3/envs/project1/lib/site-packages/urllib3/response.py?line=692'>693</a>\u001b[0m     \u001b[39mreturn\u001b[39;00m\n\u001b[1;32m--> <a href='file:///~/anaconda3/envs/project1/lib/site-packages/urllib3/response.py?line=693'>694</a>\u001b[0m line \u001b[39m=\u001b[39m \u001b[39mself\u001b[39;49m\u001b[39m.\u001b[39;49m_fp\u001b[39m.\u001b[39;49mfp\u001b[39m.\u001b[39;49mreadline()\n\u001b[0;32m    <a href='file:///~/anaconda3/envs/project1/lib/site-packages/urllib3/response.py?line=694'>695</a>\u001b[0m line \u001b[39m=\u001b[39m line\u001b[39m.\u001b[39msplit(\u001b[39mb\u001b[39m\u001b[39m\"\u001b[39m\u001b[39m;\u001b[39m\u001b[39m\"\u001b[39m, \u001b[39m1\u001b[39m)[\u001b[39m0\u001b[39m]\n\u001b[0;32m    <a href='file:///~/anaconda3/envs/project1/lib/site-packages/urllib3/response.py?line=695'>696</a>\u001b[0m \u001b[39mtry\u001b[39;00m:\n",
      "File \u001b[1;32m~\\anaconda3\\envs\\project1\\lib\\socket.py:669\u001b[0m, in \u001b[0;36mSocketIO.readinto\u001b[1;34m(self, b)\u001b[0m\n\u001b[0;32m    <a href='file:///~/anaconda3/envs/project1/lib/socket.py?line=666'>667</a>\u001b[0m \u001b[39mwhile\u001b[39;00m \u001b[39mTrue\u001b[39;00m:\n\u001b[0;32m    <a href='file:///~/anaconda3/envs/project1/lib/socket.py?line=667'>668</a>\u001b[0m     \u001b[39mtry\u001b[39;00m:\n\u001b[1;32m--> <a href='file:///~/anaconda3/envs/project1/lib/socket.py?line=668'>669</a>\u001b[0m         \u001b[39mreturn\u001b[39;00m \u001b[39mself\u001b[39;49m\u001b[39m.\u001b[39;49m_sock\u001b[39m.\u001b[39;49mrecv_into(b)\n\u001b[0;32m    <a href='file:///~/anaconda3/envs/project1/lib/socket.py?line=669'>670</a>\u001b[0m     \u001b[39mexcept\u001b[39;00m timeout:\n\u001b[0;32m    <a href='file:///~/anaconda3/envs/project1/lib/socket.py?line=670'>671</a>\u001b[0m         \u001b[39mself\u001b[39m\u001b[39m.\u001b[39m_timeout_occurred \u001b[39m=\u001b[39m \u001b[39mTrue\u001b[39;00m\n",
      "File \u001b[1;32m~\\anaconda3\\envs\\project1\\lib\\ssl.py:1241\u001b[0m, in \u001b[0;36mSSLSocket.recv_into\u001b[1;34m(self, buffer, nbytes, flags)\u001b[0m\n\u001b[0;32m   <a href='file:///~/anaconda3/envs/project1/lib/ssl.py?line=1236'>1237</a>\u001b[0m     \u001b[39mif\u001b[39;00m flags \u001b[39m!=\u001b[39m \u001b[39m0\u001b[39m:\n\u001b[0;32m   <a href='file:///~/anaconda3/envs/project1/lib/ssl.py?line=1237'>1238</a>\u001b[0m         \u001b[39mraise\u001b[39;00m \u001b[39mValueError\u001b[39;00m(\n\u001b[0;32m   <a href='file:///~/anaconda3/envs/project1/lib/ssl.py?line=1238'>1239</a>\u001b[0m           \u001b[39m\"\u001b[39m\u001b[39mnon-zero flags not allowed in calls to recv_into() on \u001b[39m\u001b[39m%s\u001b[39;00m\u001b[39m\"\u001b[39m \u001b[39m%\u001b[39m\n\u001b[0;32m   <a href='file:///~/anaconda3/envs/project1/lib/ssl.py?line=1239'>1240</a>\u001b[0m           \u001b[39mself\u001b[39m\u001b[39m.\u001b[39m\u001b[39m__class__\u001b[39m)\n\u001b[1;32m-> <a href='file:///~/anaconda3/envs/project1/lib/ssl.py?line=1240'>1241</a>\u001b[0m     \u001b[39mreturn\u001b[39;00m \u001b[39mself\u001b[39;49m\u001b[39m.\u001b[39;49mread(nbytes, buffer)\n\u001b[0;32m   <a href='file:///~/anaconda3/envs/project1/lib/ssl.py?line=1241'>1242</a>\u001b[0m \u001b[39melse\u001b[39;00m:\n\u001b[0;32m   <a href='file:///~/anaconda3/envs/project1/lib/ssl.py?line=1242'>1243</a>\u001b[0m     \u001b[39mreturn\u001b[39;00m \u001b[39msuper\u001b[39m()\u001b[39m.\u001b[39mrecv_into(buffer, nbytes, flags)\n",
      "File \u001b[1;32m~\\anaconda3\\envs\\project1\\lib\\ssl.py:1099\u001b[0m, in \u001b[0;36mSSLSocket.read\u001b[1;34m(self, len, buffer)\u001b[0m\n\u001b[0;32m   <a href='file:///~/anaconda3/envs/project1/lib/ssl.py?line=1096'>1097</a>\u001b[0m \u001b[39mtry\u001b[39;00m:\n\u001b[0;32m   <a href='file:///~/anaconda3/envs/project1/lib/ssl.py?line=1097'>1098</a>\u001b[0m     \u001b[39mif\u001b[39;00m buffer \u001b[39mis\u001b[39;00m \u001b[39mnot\u001b[39;00m \u001b[39mNone\u001b[39;00m:\n\u001b[1;32m-> <a href='file:///~/anaconda3/envs/project1/lib/ssl.py?line=1098'>1099</a>\u001b[0m         \u001b[39mreturn\u001b[39;00m \u001b[39mself\u001b[39;49m\u001b[39m.\u001b[39;49m_sslobj\u001b[39m.\u001b[39;49mread(\u001b[39mlen\u001b[39;49m, buffer)\n\u001b[0;32m   <a href='file:///~/anaconda3/envs/project1/lib/ssl.py?line=1099'>1100</a>\u001b[0m     \u001b[39melse\u001b[39;00m:\n\u001b[0;32m   <a href='file:///~/anaconda3/envs/project1/lib/ssl.py?line=1100'>1101</a>\u001b[0m         \u001b[39mreturn\u001b[39;00m \u001b[39mself\u001b[39m\u001b[39m.\u001b[39m_sslobj\u001b[39m.\u001b[39mread(\u001b[39mlen\u001b[39m)\n",
      "\u001b[1;31mKeyboardInterrupt\u001b[0m: "
     ]
    }
   ],
   "source": [
    "query = [\"올림픽\"]\n",
    "output_file_name = \"raw_data_twit.txt\"\n",
    "with open(output_file_name, \"w\", encoding=\"utf-8\") as output_file:\n",
    "    stream = twitter_api.GetStreamFilter(track=query)\n",
    "    while True:\n",
    "        for tweets in stream:\n",
    "            tweet = json.dumps(tweets, ensure_ascii=False)\n",
    "            print(tweet, file=output_file, flush=True)"
   ]
  },
  {
   "cell_type": "markdown",
   "metadata": {},
   "source": [
    "중단 기능을 만들지 않아서 Error가 발생한 것처럼 보이지만, 실제로 파일을 확인해보면 약 6시간동안 약 15,000개의 트윗을 저장한 것을 볼 수 있다. 이를 바탕으로 필요없는 것들을 기초적으로 전처리하였다."
   ]
  },
  {
   "cell_type": "code",
   "execution_count": 2,
   "metadata": {},
   "outputs": [],
   "source": [
    "#차후 ainize를 활용해 KOGPT를 학습시키기 위해 전처리 후 토큰화 하기 전의 저장할 파일 생성\n",
    "file = open('edited_twit.txt', 'w')"
   ]
  },
  {
   "cell_type": "code",
   "execution_count": 6,
   "metadata": {},
   "outputs": [],
   "source": [
    "#파일 읽기 모드로 열기\n",
    "f = open(\"raw_data_twit.txt\", 'r', encoding='UTF8')\n",
    "#한줄씩 불러와서 전처리하기\n",
    "for lines in f:\n",
    "    line = json.loads(lines) #json 형태로 불러와서\n",
    "    line = line['text'] #텍스트 파트만 정해놓고\n",
    "    line = re.sub('https?://\\S+', '', line) #링크 등에 쓰인 https 주소들 제거\n",
    "    line = re.sub('@\\S+', '', line) # @아이디 인 멘션 제거\n",
    "    line = re.sub('RT', '', line) #RT 표시 제거, 다른 RT 글자가 제거될 수도 있지만 일단 제거\n",
    "    line = re.sub('[0-9a-zA-Z]', '', line) #숫자와 영어 제거\n",
    "    line = re.sub('\\n', '', line) #엔터 제거\n",
    "    line = re.sub(r'[?~!@#:+$\"%^&,*()_=-]', '', line) #기본적인 특수문자 제거 1\n",
    "    line = re.sub(r\"[']\", '', line) #기본적인 특수문자 제거 2\n",
    "    line = re.sub(\"[.]{2}\", '▒', line) #...은 남기기 위해 임시로 ▒로 치환\n",
    "    line = re.sub(\"[.]\", ' ', line) #하나만 있는 건 제거\n",
    "    line = re.sub(\"▒\", '...', line) #다시 말줄임표로 전환\n",
    "    file.write(str(line) + '\\n') #한줄씩 쓴다"
   ]
  },
  {
   "cell_type": "code",
   "execution_count": 8,
   "metadata": {},
   "outputs": [],
   "source": [
    "#파일 닫기\n",
    "file.close()"
   ]
  },
  {
   "cell_type": "markdown",
   "metadata": {},
   "source": [
    "약 15,000줄의 데이터를 확보함"
   ]
  },
  {
   "cell_type": "markdown",
   "metadata": {},
   "source": [
    "##### *트윗의 전처리에 대해서  \n",
    "숫자(ex: 2022 올림픽, 1000m) 등은 상기한 대로의 쓰임이 많아 제거하였다. 영어의 경우, 종종 쓰이지만 우선 다 제거하였다. 특수문자의 경우, ... 은 어투를 구성한다 생각해 제거하지 않았고, 🤩과 같은 이모지, ㅠㅠㅠ 혹은 ㅋㅋㅋ 등 역시 감정에 영향을 끼친다 생각해 제거하지 않았다."
   ]
  }
 ],
 "metadata": {
  "interpreter": {
   "hash": "eb5c5580cbdc7edaf1dbcbae550fc6e32a20e6d30e58e8d8249ea42c2b8c8784"
  },
  "kernelspec": {
   "display_name": "Python 3.8.12 ('project1')",
   "language": "python",
   "name": "python3"
  },
  "language_info": {
   "codemirror_mode": {
    "name": "ipython",
    "version": 3
   },
   "file_extension": ".py",
   "mimetype": "text/x-python",
   "name": "python",
   "nbconvert_exporter": "python",
   "pygments_lexer": "ipython3",
   "version": "3.8.12"
  },
  "orig_nbformat": 4
 },
 "nbformat": 4,
 "nbformat_minor": 2
}
