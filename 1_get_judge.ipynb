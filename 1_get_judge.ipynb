{
 "cells": [
  {
   "cell_type": "markdown",
   "metadata": {},
   "source": [
    "### 판결문 데이터 확보  \n",
    "[AI HUB](https://aihub.or.kr/aidata/8054)를 통해서 저작권에 문제가 판결문 데이터를 확보해 로컬에 저장하였다(raw_data.zip 파일 안에 raw_data_judgement.json). 이를 다시 정리해 사용할 수 있게 만드는 과정을 진행하였다."
   ]
  },
  {
   "cell_type": "code",
   "execution_count": 1,
   "metadata": {},
   "outputs": [],
   "source": [
    "import json #json 제어를 위한 import\n",
    "import re #정규식 사용을 위해"
   ]
  },
  {
   "cell_type": "code",
   "execution_count": 16,
   "metadata": {},
   "outputs": [],
   "source": [
    "#파일 열어 dictionary 형태로 저장\n",
    "with open('raw_data_judgement.json', encoding='UTF8') as f:\n",
    "    contents = f.read()\n",
    "    raw_data = json.loads(contents)"
   ]
  },
  {
   "cell_type": "code",
   "execution_count": 17,
   "metadata": {},
   "outputs": [],
   "source": [
    "#차후 ainize를 활용해 KOGPT를 학습시키기 위해 전처리 후 토큰화 하기 전의 저장할 파일 생성\n",
    "file = open('edited_judgement.txt', 'w')"
   ]
  },
  {
   "cell_type": "code",
   "execution_count": 18,
   "metadata": {},
   "outputs": [],
   "source": [
    "#for문을 돌며 간단히 전처리 후 저장\n",
    "for i in range(len(raw_data['documents'])): #전체에서 documents로 들어가\n",
    "    line_data = '' #엔터가 잦아서 한 문장으로 처리하기 위해 담을 준비를 하고 \n",
    "    for k in range(len(raw_data['documents'][i]['text'][0])): #문장을 찾아서\n",
    "        line = raw_data['documents'][i]['text'][0][k]['sentence'] #지정하고        \n",
    "        line = re.sub(r'[,:()\"-]','',line) #전처리 하고 1\n",
    "        line = re.sub(r\"[ㆍ]\",\" 및 \",line) #전처리하고 2\n",
    "        line = re.sub(r'[\\d]','1',line) #전처리하고 3\n",
    "        line_data += line + ' ' #넣는다\n",
    "    \n",
    "    file.write(str(line_data) + '\\n') #한줄씩 쓴다"
   ]
  },
  {
   "cell_type": "code",
   "execution_count": 19,
   "metadata": {},
   "outputs": [],
   "source": [
    "#파일 닫기\n",
    "file.close()"
   ]
  },
  {
   "cell_type": "markdown",
   "metadata": {},
   "source": [
    "약 20,000줄의 데이터를 확보함"
   ]
  },
  {
   "cell_type": "markdown",
   "metadata": {},
   "source": [
    "##### *법조문의 전처리에 대해서  \n",
    "숫자(ex: 제 14조 9항) 등은 전체를 제거하지 않고, 모두 1로 바꾸는 방식을 선택했다. 더 법조문스러운 글을 위해선 열거한 숫자들은 필요하다고 생각했고, 다른 부분(ex: 벌금 100만 원)에서만 제거해야 하는데 그 것이 어려울 것이기 때문에 우선 단순하게 전처리를 진행하였다. 비슷하게, '가. 내용'과 같은 항목 표시도 제거하지 않았다."
   ]
  }
 ],
 "metadata": {
  "interpreter": {
   "hash": "eb5c5580cbdc7edaf1dbcbae550fc6e32a20e6d30e58e8d8249ea42c2b8c8784"
  },
  "kernelspec": {
   "display_name": "Python 3.8.12 ('project1')",
   "language": "python",
   "name": "python3"
  },
  "language_info": {
   "codemirror_mode": {
    "name": "ipython",
    "version": 3
   },
   "file_extension": ".py",
   "mimetype": "text/x-python",
   "name": "python",
   "nbconvert_exporter": "python",
   "pygments_lexer": "ipython3",
   "version": "3.8.12"
  },
  "orig_nbformat": 4
 },
 "nbformat": 4,
 "nbformat_minor": 2
}
