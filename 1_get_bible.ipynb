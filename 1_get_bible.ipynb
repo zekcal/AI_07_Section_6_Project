{
 "cells": [
  {
   "cell_type": "markdown",
   "metadata": {},
   "source": [
    "### 성경 데이터 확보  \n",
    "저작권에 문제가 없는 성경 데이터를 확보해 로컬에 저장하였다(raw_data.zip 파일 안에 raw_data_bible.txt). 이를 다시 정리해 사용할 수 있게 만드는 과정을 진행하였다."
   ]
  },
  {
   "cell_type": "code",
   "execution_count": 2,
   "metadata": {},
   "outputs": [],
   "source": [
    "import re #정규식 사용을 위해"
   ]
  },
  {
   "cell_type": "code",
   "execution_count": 1,
   "metadata": {},
   "outputs": [],
   "source": [
    "#차후 ainize를 활용해 KOGPT를 학습시키기 위해 전처리 후 토큰화 하기 전의 저장할 파일 생성\n",
    "file = open('edited_bible.txt', 'w')\n"
   ]
  },
  {
   "cell_type": "code",
   "execution_count": 3,
   "metadata": {},
   "outputs": [],
   "source": [
    "#파일 읽기 모드로 열기\n",
    "f = open(\"raw_data_bible.txt\", 'r')\n",
    "#한줄씩 불러와서 전처리하기\n",
    "lines = f.readlines()\n",
    "for line in lines:\n",
    "    line = line[1:]\n",
    "    #숫자와 특수문자(:()), 첫글자인 창, 레, 민 등 글자 제거\n",
    "    line = re.sub(r\"[0-9:()]\",\"\",line[1:])\n",
    "    file.write(line)"
   ]
  },
  {
   "cell_type": "code",
   "execution_count": 4,
   "metadata": {},
   "outputs": [],
   "source": [
    "#파일 닫기\n",
    "f.close()\n",
    "file.close()"
   ]
  },
  {
   "cell_type": "markdown",
   "metadata": {},
   "source": [
    "약 10,000줄의 데이터를 확보함"
   ]
  }
 ],
 "metadata": {
  "interpreter": {
   "hash": "eb5c5580cbdc7edaf1dbcbae550fc6e32a20e6d30e58e8d8249ea42c2b8c8784"
  },
  "kernelspec": {
   "display_name": "Python 3.8.12 ('project1')",
   "language": "python",
   "name": "python3"
  },
  "language_info": {
   "codemirror_mode": {
    "name": "ipython",
    "version": 3
   },
   "file_extension": ".py",
   "mimetype": "text/x-python",
   "name": "python",
   "nbconvert_exporter": "python",
   "pygments_lexer": "ipython3",
   "version": "3.8.12"
  },
  "orig_nbformat": 4
 },
 "nbformat": 4,
 "nbformat_minor": 2
}
